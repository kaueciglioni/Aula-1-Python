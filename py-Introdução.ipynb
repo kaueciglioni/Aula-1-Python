{
  "nbformat": 4,
  "nbformat_minor": 0,
  "metadata": {
    "colab": {
      "provenance": [],
      "authorship_tag": "ABX9TyO44DlXW+JJuM9uxsG5Eqm2",
      "include_colab_link": true
    },
    "kernelspec": {
      "name": "python3",
      "display_name": "Python 3"
    },
    "language_info": {
      "name": "python"
    }
  },
  "cells": [
    {
      "cell_type": "markdown",
      "metadata": {
        "id": "view-in-github",
        "colab_type": "text"
      },
      "source": [
        "<a href=\"https://colab.research.google.com/github/kaueciglioni/Aula-1-Python/blob/main/py-Introdu%C3%A7%C3%A3o.ipynb\" target=\"_parent\"><img src=\"https://colab.research.google.com/assets/colab-badge.svg\" alt=\"Open In Colab\"/></a>"
      ]
    },
    {
      "cell_type": "code",
      "execution_count": 5,
      "metadata": {
        "colab": {
          "base_uri": "https://localhost:8080/"
        },
        "id": "EfUpLqlB_NFS",
        "outputId": "3807d711-039c-40cc-af7d-338ba3750cc7"
      },
      "outputs": [
        {
          "output_type": "stream",
          "name": "stdout",
          "text": [
            "olá mundo\n"
          ]
        }
      ],
      "source": [
        "print (\"olá mundo\")\n"
      ]
    },
    {
      "cell_type": "code",
      "source": [
        "print ('olá mundo')"
      ],
      "metadata": {
        "colab": {
          "base_uri": "https://localhost:8080/"
        },
        "id": "TVurJWlSAhUp",
        "outputId": "3e4993e9-e78c-498c-abe9-23f7542e2c33"
      },
      "execution_count": 9,
      "outputs": [
        {
          "output_type": "stream",
          "name": "stdout",
          "text": [
            "olá mundo\n"
          ]
        }
      ]
    },
    {
      "cell_type": "code",
      "source": [
        "print (8-2)\n",
        "print (5 + 6)\n",
        "print (15/3)"
      ],
      "metadata": {
        "colab": {
          "base_uri": "https://localhost:8080/"
        },
        "id": "3fQdKwzpAvAd",
        "outputId": "8ab8f64c-f2a5-4826-843f-1339bc86de60"
      },
      "execution_count": 10,
      "outputs": [
        {
          "output_type": "stream",
          "name": "stdout",
          "text": [
            "6\n",
            "11\n",
            "5.0\n"
          ]
        }
      ]
    },
    {
      "cell_type": "code",
      "source": [
        "print (\"oi\")"
      ],
      "metadata": {
        "colab": {
          "base_uri": "https://localhost:8080/"
        },
        "id": "1ihmkURgBAz-",
        "outputId": "1c373aca-fcb7-4c89-bda1-e57d61ab3388"
      },
      "execution_count": 11,
      "outputs": [
        {
          "output_type": "stream",
          "name": "stdout",
          "text": [
            "oi\n"
          ]
        }
      ]
    },
    {
      "cell_type": "code",
      "source": [
        "a=10\n",
        "b=20\n",
        "c=(a+b)"
      ],
      "metadata": {
        "id": "j9aJhJUiBuTM"
      },
      "execution_count": 12,
      "outputs": []
    },
    {
      "cell_type": "code",
      "source": [
        "print (c)"
      ],
      "metadata": {
        "colab": {
          "base_uri": "https://localhost:8080/"
        },
        "id": "KrXGb8TRB191",
        "outputId": "6644290e-e9d9-43fc-a5e6-b5670bd539e8"
      },
      "execution_count": 13,
      "outputs": [
        {
          "output_type": "stream",
          "name": "stdout",
          "text": [
            "30\n"
          ]
        }
      ]
    },
    {
      "cell_type": "code",
      "source": [
        "print(\"O valor de c é igual a: \",c)"
      ],
      "metadata": {
        "colab": {
          "base_uri": "https://localhost:8080/"
        },
        "id": "emMwsuPWB4Mm",
        "outputId": "c26a48b3-5430-425c-c1f5-a47e3d7b718b"
      },
      "execution_count": 14,
      "outputs": [
        {
          "output_type": "stream",
          "name": "stdout",
          "text": [
            "O valor de c é igual a:  30\n"
          ]
        }
      ]
    },
    {
      "cell_type": "code",
      "source": [
        "print (8+6 * 7 + 5**2)"
      ],
      "metadata": {
        "colab": {
          "base_uri": "https://localhost:8080/"
        },
        "id": "gE1ZrlFNCFme",
        "outputId": "d238591d-3aa9-4f9e-dd2b-f6bd0b271aa7"
      },
      "execution_count": 15,
      "outputs": [
        {
          "output_type": "stream",
          "name": "stdout",
          "text": [
            "75\n"
          ]
        }
      ]
    },
    {
      "cell_type": "code",
      "source": [
        "nome = \"RITA\"\n",
        "#imprime a variavel nome\n",
        "\n",
        "print (nome)"
      ],
      "metadata": {
        "colab": {
          "base_uri": "https://localhost:8080/"
        },
        "id": "zmuQusnAFZ-l",
        "outputId": "845b1afa-35e5-4a39-f5b4-d7d270262613"
      },
      "execution_count": 25,
      "outputs": [
        {
          "output_type": "stream",
          "name": "stdout",
          "text": [
            "RITA\n"
          ]
        }
      ]
    },
    {
      "cell_type": "code",
      "source": [
        "print ('meu nom é: ',nome)"
      ],
      "metadata": {
        "colab": {
          "base_uri": "https://localhost:8080/"
        },
        "id": "ZMGPcwIjGVRz",
        "outputId": "daca2a54-9979-4d47-bdf8-a34299d81a65"
      },
      "execution_count": 26,
      "outputs": [
        {
          "output_type": "stream",
          "name": "stdout",
          "text": [
            "meu nom é:  RITA\n"
          ]
        }
      ]
    },
    {
      "cell_type": "code",
      "source": [
        "nome1 = \"Kaue\"\n",
        "print('meu nome é ', nome1)"
      ],
      "metadata": {
        "colab": {
          "base_uri": "https://localhost:8080/"
        },
        "id": "s17GI8qJHn1f",
        "outputId": "3f4d1b40-9367-45eb-d423-a0f3d6fc537f"
      },
      "execution_count": 29,
      "outputs": [
        {
          "output_type": "stream",
          "name": "stdout",
          "text": [
            "meu nome é  Kaue\n"
          ]
        }
      ]
    },
    {
      "cell_type": "code",
      "source": [
        "cor1 = 'vermelho'"
      ],
      "metadata": {
        "id": "3_A6sd-bHwUv"
      },
      "execution_count": 35,
      "outputs": []
    },
    {
      "cell_type": "code",
      "source": [
        "print (f'meu nome é {nome1} e minha cor favoria é {cor1}')"
      ],
      "metadata": {
        "colab": {
          "base_uri": "https://localhost:8080/"
        },
        "id": "iOvk9jn_Iv1H",
        "outputId": "c0162af0-842d-41c3-bf86-1ed0abc582cc"
      },
      "execution_count": 40,
      "outputs": [
        {
          "output_type": "stream",
          "name": "stdout",
          "text": [
            "meu nome é Kaue e minha cor favoria é vermelho\n"
          ]
        }
      ]
    },
    {
      "cell_type": "code",
      "source": [
        "nome = input ('Qual seu nome?')\n",
        "idade = input ('Qual sua idade' )\n",
        "gen = input ('Qual seu genero' )\n",
        "cidade = input ('Qual seu estado' )\n",
        "\n",
        "print (f'Meu nome é {nome}, tenho {idade} anos, sou do sexo {gen}, e nasci na cidade de {cidade}')\n"
      ],
      "metadata": {
        "colab": {
          "base_uri": "https://localhost:8080/"
        },
        "id": "KRQ0DK6WJTOE",
        "outputId": "e1406498-d783-4107-9db3-fa33f9ed9856"
      },
      "execution_count": 43,
      "outputs": [
        {
          "output_type": "stream",
          "name": "stdout",
          "text": [
            "Qual seu nome?Kaue\n",
            "Qual sua idade19\n",
            "Qual seu generoMasculino\n",
            "Qual seu estadosão paulo\n",
            "Meu nome é Kaue, tenho 19 anos, sou do sexo Masculino, e nasci na cidade de são paulo\n"
          ]
        }
      ]
    },
    {
      "cell_type": "code",
      "source": [
        "data = (2023-idade)\n",
        "idade = int(input('Qual a sua idade? '))\n",
        "print(f\"Eu tenho {idade} anos de idade\")\n",
        "print (f'então você é nascido em {data}')"
      ],
      "metadata": {
        "colab": {
          "base_uri": "https://localhost:8080/"
        },
        "id": "a923ljZzJuI9",
        "outputId": "8c5935d0-a93e-40ed-bd76-211872aa9d96"
      },
      "execution_count": 51,
      "outputs": [
        {
          "output_type": "stream",
          "name": "stdout",
          "text": [
            "Qual a sua idade? 20\n",
            "Eu tenho 20 anos de idade\n",
            "então você é nascido em 2003\n"
          ]
        }
      ]
    },
    {
      "cell_type": "code",
      "source": [
        "media=(nota1+nota2+nota3) / 3\n",
        "\n",
        "nota1 = float(input('Quanto você tirou na primeira prova? '))\n",
        "nota2 = float(input('Quanto você tirou na segunda prova? '))\n",
        "nota3 = float(input('Quanto você tirou na terceira prova? '))\n",
        "\n",
        "print(f'Sua  média ficou: {media:.1f}')\n"
      ],
      "metadata": {
        "colab": {
          "base_uri": "https://localhost:8080/"
        },
        "id": "nOs_SdbjMQVf",
        "outputId": "5cffc891-f4e2-4d88-e511-a6658708269e"
      },
      "execution_count": 62,
      "outputs": [
        {
          "output_type": "stream",
          "name": "stdout",
          "text": [
            "Quanto você tirou na primeira prova? 10\n",
            "Quanto você tirou na segunda prova? 9\n",
            "Quanto você tirou na terceira prova? 5\n",
            "Sua  média ficou: 8.7\n"
          ]
        }
      ]
    },
    {
      "cell_type": "code",
      "source": [
        "\n"
      ],
      "metadata": {
        "id": "xnk-UxoSNovz"
      },
      "execution_count": null,
      "outputs": []
    }
  ]
}